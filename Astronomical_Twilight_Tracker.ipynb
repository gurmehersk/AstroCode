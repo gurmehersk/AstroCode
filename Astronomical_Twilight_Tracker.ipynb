{
 "cells": [
  {
   "cell_type": "code",
   "execution_count": 5,
   "id": "f6d17448-8332-46e6-a482-ab2ce61ea821",
   "metadata": {},
   "outputs": [
    {
     "name": "stdout",
     "output_type": "stream",
     "text": [
      "Astronomical Twilight Begins: 2024-11-03 02:03:57.838\n",
      "Astronomical Twilight Ends: 2024-11-03 12:32:25.946\n"
     ]
    }
   ],
   "source": [
    "''' FINDING THE TWILIGHT HOURS FOR ASTRONOMICAL OBSERVATION ''' \n",
    "# insure that you have downloaded the astroquery package on python/notebook by typing\n",
    "# pip install astroquery\n",
    "import numpy as np\n",
    "from astropy.time import Time\n",
    "from astroquery.jplhorizons import Horizons\n",
    "from astropy.coordinates import EarthLocation, get_sun, AltAz\n",
    "from astropy.time import Time\n",
    "import astropy.units as u\n",
    "\n",
    "# defining the astronomical twilight function\n",
    "def astronomical_twilight(location, date):\n",
    "    \n",
    "    # define the observer's location. Location here is a library and the values can be user defined while calling the function\n",
    "    observer_location = EarthLocation(lat=location['latitude']*u.deg, lon=location['longitude']*u.deg, height=location['elevation']*u.m)\n",
    "    \n",
    "    # create the time range, might be a little redundant in some use cases \n",
    "    time_range = Time(f\"{date} 00:00:00\") + np.linspace(0, 24, 1000)*u.hour\n",
    "    \n",
    "    # setting the altitude and azimuth frames of references. These functions will be useful when defining the same for the SUN\n",
    "    alt_az_frame = AltAz(obstime=time_range, location=observer_location)\n",
    "    \n",
    "    # Now let's store the sun's altitude angle over time stored in time_range\n",
    "    sun_altaz = get_sun(time_range).transform_to(alt_az_frame)\n",
    "    \n",
    "    # Finding the time when Sun's altitude is -18 degrees (for astronomical twilight)\n",
    "    twilight_start_idx = np.where(sun_altaz.alt < -18*u.deg)[0][0]\n",
    "    # the first [0] returns a tuple of arrays for all the data points where the conditional expression in brackets is true\n",
    "    # the second [0] returns the first instance of this truth, which would indicate the beginning of astronomical twilight\n",
    "    \n",
    "    twilight_end_idx = np.where(sun_altaz.alt < -18*u.deg)[0][-1]\n",
    "    # same thing with this, except the [-1] gives the last element for which the condition above is true from the tuple\n",
    "    \n",
    "    twilight_start = time_range[twilight_start_idx]\n",
    "    twilight_end = time_range[twilight_end_idx]\n",
    "    return twilight_start.iso, twilight_end.iso\n",
    "\n",
    "\n",
    "location = {'latitude': 37.73, 'longitude': -113.6975, 'elevation': 1570}  # You may change these numbers as per your convenience!\n",
    "date = '2024-11-3'\n",
    "\n",
    "# Call the function\n",
    "start, end = astronomical_twilight(location, date)\n",
    "print(f\"Astronomical Twilight Begins: {start}\")\n",
    "print(f\"Astronomical Twilight Ends: {end}\")\n",
    "\n",
    "# CAUTION!!!!!!! again note that the time you will get below will be in UTC! Please convert it to your respective time zone!"
   ]
  },
  {
   "cell_type": "code",
   "execution_count": null,
   "id": "e55aba2c-c0c1-4643-bca3-97928d492364",
   "metadata": {},
   "outputs": [],
   "source": []
  }
 ],
 "metadata": {
  "kernelspec": {
   "display_name": "Python (myenviron)",
   "language": "python",
   "name": "myenviron"
  },
  "language_info": {
   "codemirror_mode": {
    "name": "ipython",
    "version": 3
   },
   "file_extension": ".py",
   "mimetype": "text/x-python",
   "name": "python",
   "nbconvert_exporter": "python",
   "pygments_lexer": "ipython3",
   "version": "3.12.4"
  }
 },
 "nbformat": 4,
 "nbformat_minor": 5
}
